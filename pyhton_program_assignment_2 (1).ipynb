{
 "cells": [
  {
   "cell_type": "markdown",
   "id": "564fc5d9",
   "metadata": {},
   "source": [
    "<h2> 1. Write a Python program to convert kilometers to miles? <br>\n",
    "2. Write a Python program to convert Celsius to Fahrenheit? </h2>"
   ]
  },
  {
   "cell_type": "code",
   "execution_count": 8,
   "id": "48cd66a9",
   "metadata": {},
   "outputs": [],
   "source": [
    "import logging\n",
    "logging.basicConfig(filename = \"test.log\", level= logging.INFO , \n",
    "                    format = '%(asctime)s %(levelname)s %(message)s')\n"
   ]
  },
  {
   "cell_type": "code",
   "execution_count": 9,
   "id": "3a1cbd4c",
   "metadata": {},
   "outputs": [],
   "source": [
    "class convertor:\n",
    "    def km_to_miles(self):\n",
    "        \"\"\"To conver kilometers into miles distance function\"\"\"\n",
    "        logging.info(\"\"\"Entered in convert function\n",
    "        taking kilometer as user input and returning converted into miles \"\"\")\n",
    "        try :\n",
    "            a = float(input(\"Enter kilometers to convert in miles : \"))\n",
    "            miles = round((a / 1.609 ),2)\n",
    "            return [a,miles] \n",
    "            logging.info(\"Executed distance convert function successfully\")\n",
    "        except Exception as e:\n",
    "            logging.error(\"error distance convertor code block\")\n",
    "            logging.exception(\"Exception occured \" + str(e) )\n",
    "    def cel_to_fah(self):\n",
    "        \"\"\"To conver celcius into fahrenheihs temprature function \"\"\"\n",
    "        logging.info(\"\"\"Entered in convert function\n",
    "        To conver celcius into fahrenheiht \"\"\")\n",
    "        try :\n",
    "            a = float(input(\"Enter celcius to convert in fhrenheit : \"))\n",
    "            fah = round(((a * 1.8)+32),2)\n",
    "            return [a,fah] \n",
    "            logging.info(\"Executed temprature convert function successfully\")\n",
    "        except Exception as e:\n",
    "            logging.error(\"error temprature convertor code block\")\n",
    "            logging.exception(\"Exception occured \" + str(e) )\n",
    "\n",
    "    "
   ]
  },
  {
   "cell_type": "code",
   "execution_count": 10,
   "id": "176082c3",
   "metadata": {},
   "outputs": [
    {
     "name": "stdout",
     "output_type": "stream",
     "text": [
      "Enter kilometers to convert in miles : 5\n",
      "Kilometers  : 5.0  === >>> Miles   :  3.11\n"
     ]
    }
   ],
   "source": [
    "obj_convertor = convertor()\n",
    "result = obj_convertor.km_to_miles()\n",
    "print(f\"Kilometers  : {result[0]}  === >>> Miles   :  {result[1]}\")\n",
    "\n"
   ]
  },
  {
   "cell_type": "code",
   "execution_count": 11,
   "id": "8eac7100",
   "metadata": {},
   "outputs": [
    {
     "name": "stdout",
     "output_type": "stream",
     "text": [
      "Enter celcius to convert in fhrenheit : 100\n",
      "Celcius  : 100.0  === >>> Fahreinheit   :  212.0\n"
     ]
    }
   ],
   "source": [
    "result = obj_convertor.cel_to_fah()\n",
    "print(f\"Celcius  : {result[0]}  === >>> Fahreinheit   :  {result[1]}\")"
   ]
  },
  {
   "cell_type": "markdown",
   "id": "c335e2dd",
   "metadata": {},
   "source": [
    "<h2>3. Write a Python program to display calendar?"
   ]
  },
  {
   "cell_type": "code",
   "execution_count": 10,
   "id": "29aeec32",
   "metadata": {},
   "outputs": [
    {
     "name": "stdout",
     "output_type": "stream",
     "text": [
      "Enter starting of the year to display calender2022\n",
      "                                  2022\n",
      "\n",
      "      January                   February                   March\n",
      "Mo Tu We Th Fr Sa Su      Mo Tu We Th Fr Sa Su      Mo Tu We Th Fr Sa Su\n",
      "                1  2          1  2  3  4  5  6          1  2  3  4  5  6\n",
      " 3  4  5  6  7  8  9       7  8  9 10 11 12 13       7  8  9 10 11 12 13\n",
      "10 11 12 13 14 15 16      14 15 16 17 18 19 20      14 15 16 17 18 19 20\n",
      "17 18 19 20 21 22 23      21 22 23 24 25 26 27      21 22 23 24 25 26 27\n",
      "24 25 26 27 28 29 30      28                        28 29 30 31\n",
      "31\n",
      "\n",
      "       April                      May                       June\n",
      "Mo Tu We Th Fr Sa Su      Mo Tu We Th Fr Sa Su      Mo Tu We Th Fr Sa Su\n",
      "             1  2  3                         1             1  2  3  4  5\n",
      " 4  5  6  7  8  9 10       2  3  4  5  6  7  8       6  7  8  9 10 11 12\n",
      "11 12 13 14 15 16 17       9 10 11 12 13 14 15      13 14 15 16 17 18 19\n",
      "18 19 20 21 22 23 24      16 17 18 19 20 21 22      20 21 22 23 24 25 26\n",
      "25 26 27 28 29 30         23 24 25 26 27 28 29      27 28 29 30\n",
      "                          30 31\n",
      "\n",
      "        July                     August                  September\n",
      "Mo Tu We Th Fr Sa Su      Mo Tu We Th Fr Sa Su      Mo Tu We Th Fr Sa Su\n",
      "             1  2  3       1  2  3  4  5  6  7                1  2  3  4\n",
      " 4  5  6  7  8  9 10       8  9 10 11 12 13 14       5  6  7  8  9 10 11\n",
      "11 12 13 14 15 16 17      15 16 17 18 19 20 21      12 13 14 15 16 17 18\n",
      "18 19 20 21 22 23 24      22 23 24 25 26 27 28      19 20 21 22 23 24 25\n",
      "25 26 27 28 29 30 31      29 30 31                  26 27 28 29 30\n",
      "\n",
      "      October                   November                  December\n",
      "Mo Tu We Th Fr Sa Su      Mo Tu We Th Fr Sa Su      Mo Tu We Th Fr Sa Su\n",
      "                1  2          1  2  3  4  5  6                1  2  3  4\n",
      " 3  4  5  6  7  8  9       7  8  9 10 11 12 13       5  6  7  8  9 10 11\n",
      "10 11 12 13 14 15 16      14 15 16 17 18 19 20      12 13 14 15 16 17 18\n",
      "17 18 19 20 21 22 23      21 22 23 24 25 26 27      19 20 21 22 23 24 25\n",
      "24 25 26 27 28 29 30      28 29 30                  26 27 28 29 30 31\n",
      "31\n",
      "\n"
     ]
    }
   ],
   "source": [
    "import calendar\n",
    "def cal():\n",
    "    logging.info(\"Entered calendar function\")\n",
    "    try:\n",
    "        year = int(input(\"Enter starting of the year to display calender\"))\n",
    "        print(calendar.calendar(year))\n",
    "        logging.info(\"Calendar function performed successfully\")\n",
    "    except Exception as e:\n",
    "        logging.error(\"Calendar function has error\")\n",
    "        logging.exception(\"Exception occcured\" + (e))\n",
    "\n",
    "cal()\n"
   ]
  },
  {
   "cell_type": "markdown",
   "id": "a7b005f2",
   "metadata": {},
   "source": [
    "<h2>4. Write a Python program to solve quadratic equation?"
   ]
  },
  {
   "cell_type": "markdown",
   "id": "e7fcde38",
   "metadata": {},
   "source": [
    "<h2>5. Write a Python program to swap two variables without temp variable?"
   ]
  },
  {
   "cell_type": "code",
   "execution_count": 12,
   "id": "9ce9306c",
   "metadata": {},
   "outputs": [
    {
     "name": "stdout",
     "output_type": "stream",
     "text": [
      "a is 2 \n",
      "b is 1\n"
     ]
    }
   ],
   "source": [
    "a = 1\n",
    "b = 2\n",
    "a , b = b , a\n",
    "print(f\"a is {a} \\nb is {b}\")"
   ]
  },
  {
   "cell_type": "code",
   "execution_count": 13,
   "id": "eacc4fa8",
   "metadata": {},
   "outputs": [],
   "source": [
    "logging.shutdown()"
   ]
  },
  {
   "cell_type": "code",
   "execution_count": null,
   "id": "2a996cd3",
   "metadata": {},
   "outputs": [],
   "source": []
  }
 ],
 "metadata": {
  "kernelspec": {
   "display_name": "Python 3 (ipykernel)",
   "language": "python",
   "name": "python3"
  },
  "language_info": {
   "codemirror_mode": {
    "name": "ipython",
    "version": 3
   },
   "file_extension": ".py",
   "mimetype": "text/x-python",
   "name": "python",
   "nbconvert_exporter": "python",
   "pygments_lexer": "ipython3",
   "version": "3.9.12"
  }
 },
 "nbformat": 4,
 "nbformat_minor": 5
}
