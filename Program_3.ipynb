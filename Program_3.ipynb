{
 "cells": [
  {
   "cell_type": "markdown",
   "id": "5cacda36",
   "metadata": {},
   "source": [
    "1. Write a Python Program to Check if a Number is Positive, Negative or Zero?\n",
    "2. Write a Python Program to Check if a Number is Odd or Even?\n",
    "3. Write a Python Program to Check Leap Year?\n",
    "4. Write a Python Program to Check Prime Number?\n",
    "5. Write a Python Program to Print all Prime Numbers in an Interval of 1-10000?"
   ]
  },
  {
   "cell_type": "code",
   "execution_count": 2,
   "id": "395eb023",
   "metadata": {},
   "outputs": [],
   "source": [
    "import logging\n",
    "logging.basicConfig(filename = \"test.log\", level= logging.INFO , \n",
    "                    format = '%(asctime)s %(levelname)s %(message)s')"
   ]
  },
  {
   "cell_type": "code",
   "execution_count": 3,
   "id": "327636bc",
   "metadata": {},
   "outputs": [],
   "source": [
    "class numb:\n",
    "    logging.info(\"Entered numb class\")\n",
    "    def __init__(self):\n",
    "        self.a = 0            \n",
    "    def getinput(self):\n",
    "        logging.info(\"Entered getinput function inside numb class\")\n",
    "        while True:\n",
    "            try :\n",
    "                self.a = float(input(\"Enter Number    : \"))\n",
    "                logging.info(\"input taken successfully\")\n",
    "                break\n",
    "            except Exception as e :\n",
    "                logging.error(\"wrong input\")\n",
    "                logging.exception(\"Exception error\" + str(e))\n",
    "                print(\"Enter valid number\")\n",
    "        return self.a   \n",
    "    \n",
    "\n",
    "    def positive_negative_zero(self):\n",
    "        self.getinput()\n",
    "        logging.info(\"Entered positive negative or zero function inside numb class\")\n",
    "        try :\n",
    "            if self.a>0 :print(f\"Number {self.a} is positive number\")\n",
    "            elif self.a<0 : print(f\"Number {self.a} is negative number\")\n",
    "            else: print(f\"Number {self.a} is Zero\")\n",
    "            logging.info(\" positive negative or zero function completed successfully\")\n",
    "        except Exception as e:\n",
    "            logging.error(\"Error in positive negative zero function\")\n",
    "            logging.error(\"Exeption error\" + str (e))        \n",
    "    def odd_even(self):\n",
    "        self.getinput()\n",
    "        logging.info(\"Entered odd even function successfully\")\n",
    "        try:\n",
    "            if self.a %2 == 0 : print(f\"Number {self.a} is even number\")\n",
    "            else : print(f\"Number {self.a} is odd number\")\n",
    "        except Exception as e:\n",
    "            logging.error(\"Error in odd even function\")\n",
    "            logging.error(\"Exception error\" + str(e))\n",
    "            \n",
    "            \n",
    "    def leap_year(self):\n",
    "        logging.info(\"Entered leap year function successfully\")\n",
    "        try:\n",
    "            while True:\n",
    "                print(\"Enter year in yyyy format to check whether it is leap year or not\")\n",
    "                self.a = int(self.getinput())\n",
    "                while self.a<=0:\n",
    "                    print(\"Enter positive year number\")\n",
    "                    self.a = int(self.getinput())\n",
    "                break\n",
    "            if self.a%100==0 and self.a%400==0:print(f\"year {self.a} is leap year\")\n",
    "            elif self.a%4==0 and self.a%100!=0: print(f\"year {self.a} is leap year\")\n",
    "            else: print(f\"year {self.a} is not leap year\")\n",
    "            logging.info(\" Leap year function completed successfully\")\n",
    "        except Exception as e:\n",
    "            logging.error(\"error in leap year code block\")\n",
    "            logging.exception(\"Exception\" + str(e))    \n",
    "            \n",
    "            \n",
    "    def prime(self):\n",
    "        logging.info(\"Entered prime numbers function\")\n",
    "        self.a = int(self.getinput())\n",
    "        try:\n",
    "            flag = False\n",
    "            if self.a>1:\n",
    "                for i in range(2,int(self.a)):\n",
    "                    if self.a % i == 0 :\n",
    "                        flag = True\n",
    "                        break\n",
    "            if flag == False:print(f\"Number {self.a} is prime number\")\n",
    "            else:print(f\"Number {self.a} is not a prime number\")\n",
    "            logging.info(\"prime number function completed successfully\")\n",
    "        except Exception as e :\n",
    "            logging.error(\"Error in prime number function\")\n",
    "            logging.exception(\"Exception\" + str(e))  \n",
    "            \n",
    "            \n",
    "    def prime_number_list(self):\n",
    "        logging.info(\"Entered prime numbers list function\")\n",
    "        try:\n",
    "            for i in range(2,1001):\n",
    "                for j in range(2,i):\n",
    "                    if (i%j) == 0:\n",
    "                        break\n",
    "                else:\n",
    "                    print(i) \n",
    "            logging.info(\"prime numbers list function completed successfully\")\n",
    "        except Exception as e:\n",
    "            logging.error(\"error prime number list function\")\n",
    "            logging.error(\"Exception\" + str(e))"
   ]
  },
  {
   "cell_type": "code",
   "execution_count": 4,
   "id": "2246f275",
   "metadata": {},
   "outputs": [
    {
     "data": {
      "text/plain": [
       "<__main__.numb at 0x278023e3350>"
      ]
     },
     "execution_count": 4,
     "metadata": {},
     "output_type": "execute_result"
    }
   ],
   "source": [
    "\n",
    "x = numb()\n",
    "x"
   ]
  },
  {
   "cell_type": "code",
   "execution_count": 5,
   "id": "c6d715c5",
   "metadata": {},
   "outputs": [
    {
     "name": "stdout",
     "output_type": "stream",
     "text": [
      "Enter year in yyyy format to check whether it is leap year or not\n",
      "year 2022 is not leap year\n"
     ]
    }
   ],
   "source": [
    "x.leap_year()\n"
   ]
  },
  {
   "cell_type": "code",
   "execution_count": 6,
   "id": "1ff6d833",
   "metadata": {},
   "outputs": [
    {
     "name": "stdout",
     "output_type": "stream",
     "text": [
      "Number 65.0 is odd number\n"
     ]
    }
   ],
   "source": [
    "x.odd_even()"
   ]
  },
  {
   "cell_type": "code",
   "execution_count": 7,
   "id": "1b03f52f",
   "metadata": {},
   "outputs": [
    {
     "name": "stdout",
     "output_type": "stream",
     "text": [
      "Number 65.0 is positive number\n"
     ]
    }
   ],
   "source": [
    "x.positive_negative_zero()"
   ]
  },
  {
   "cell_type": "code",
   "execution_count": 8,
   "id": "a0755410",
   "metadata": {},
   "outputs": [
    {
     "name": "stdout",
     "output_type": "stream",
     "text": [
      "Number 45 is not a prime number\n"
     ]
    }
   ],
   "source": [
    "x.prime()"
   ]
  },
  {
   "cell_type": "code",
   "execution_count": 29,
   "id": "5df5597e",
   "metadata": {},
   "outputs": [
    {
     "name": "stdout",
     "output_type": "stream",
     "text": [
      "2\n",
      "3\n",
      "5\n",
      "7\n",
      "11\n",
      "13\n",
      "17\n",
      "19\n",
      "23\n",
      "29\n",
      "31\n",
      "37\n",
      "41\n",
      "43\n",
      "47\n",
      "53\n",
      "59\n",
      "61\n",
      "67\n",
      "71\n",
      "73\n",
      "79\n",
      "83\n",
      "89\n",
      "97\n",
      "101\n",
      "103\n",
      "107\n",
      "109\n",
      "113\n",
      "127\n",
      "131\n",
      "137\n",
      "139\n",
      "149\n",
      "151\n",
      "157\n",
      "163\n",
      "167\n",
      "173\n",
      "179\n",
      "181\n",
      "191\n",
      "193\n",
      "197\n",
      "199\n",
      "211\n",
      "223\n",
      "227\n",
      "229\n",
      "233\n",
      "239\n",
      "241\n",
      "251\n",
      "257\n",
      "263\n",
      "269\n",
      "271\n",
      "277\n",
      "281\n",
      "283\n",
      "293\n",
      "307\n",
      "311\n",
      "313\n",
      "317\n",
      "331\n",
      "337\n",
      "347\n",
      "349\n",
      "353\n",
      "359\n",
      "367\n",
      "373\n",
      "379\n",
      "383\n",
      "389\n",
      "397\n",
      "401\n",
      "409\n",
      "419\n",
      "421\n",
      "431\n",
      "433\n",
      "439\n",
      "443\n",
      "449\n",
      "457\n",
      "461\n",
      "463\n",
      "467\n",
      "479\n",
      "487\n",
      "491\n",
      "499\n",
      "503\n",
      "509\n",
      "521\n",
      "523\n",
      "541\n",
      "547\n",
      "557\n",
      "563\n",
      "569\n",
      "571\n",
      "577\n",
      "587\n",
      "593\n",
      "599\n",
      "601\n",
      "607\n",
      "613\n",
      "617\n",
      "619\n",
      "631\n",
      "641\n",
      "643\n",
      "647\n",
      "653\n",
      "659\n",
      "661\n",
      "673\n",
      "677\n",
      "683\n",
      "691\n",
      "701\n",
      "709\n",
      "719\n",
      "727\n",
      "733\n",
      "739\n",
      "743\n",
      "751\n",
      "757\n",
      "761\n",
      "769\n",
      "773\n",
      "787\n",
      "797\n",
      "809\n",
      "811\n",
      "821\n",
      "823\n",
      "827\n",
      "829\n",
      "839\n",
      "853\n",
      "857\n",
      "859\n",
      "863\n",
      "877\n",
      "881\n",
      "883\n",
      "887\n",
      "907\n",
      "911\n",
      "919\n",
      "929\n",
      "937\n",
      "941\n",
      "947\n",
      "953\n",
      "967\n",
      "971\n",
      "977\n",
      "983\n",
      "991\n",
      "997\n"
     ]
    }
   ],
   "source": [
    "x.prime_number_list()"
   ]
  },
  {
   "cell_type": "code",
   "execution_count": null,
   "id": "620f9f44",
   "metadata": {},
   "outputs": [],
   "source": []
  }
 ],
 "metadata": {
  "kernelspec": {
   "display_name": ".venv",
   "language": "python",
   "name": "python3"
  },
  "language_info": {
   "codemirror_mode": {
    "name": "ipython",
    "version": 3
   },
   "file_extension": ".py",
   "mimetype": "text/x-python",
   "name": "python",
   "nbconvert_exporter": "python",
   "pygments_lexer": "ipython3",
   "version": "3.11.1"
  },
  "vscode": {
   "interpreter": {
    "hash": "2c7615e4a084b84ced4bb58fff9182e6d15441ce8deedd2df62daa6d14eca623"
   }
  }
 },
 "nbformat": 4,
 "nbformat_minor": 5
}
