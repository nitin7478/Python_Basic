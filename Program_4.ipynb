{
 "cells": [
  {
   "cell_type": "markdown",
   "id": "a934e931",
   "metadata": {},
   "source": [
    "1. Write a Python Program to Find the Factorial of a Number?\n",
    "2. Write a Python Program to Display the multiplication Table?\n",
    "3. Write a Python Program to Print the Fibonacci sequence?\n",
    "4. Write a Python Program to Check Armstrong Number?\n",
    "5. Write a Python Program to Find Armstrong Number in an Interval?\n",
    "6. Write a Python Program to Find the Sum of Natural Numbers?"
   ]
  },
  {
   "cell_type": "code",
   "execution_count": null,
   "id": "5242b753",
   "metadata": {},
   "outputs": [],
   "source": [
    "import logging\n",
    "logging.basicConfig(filename = \"test.log\", level = logging.INFO,\n",
    "                    format='%(asctime)s %(levelname)s %(message)s')"
   ]
  },
  {
   "cell_type": "markdown",
   "id": "7f2f23ab",
   "metadata": {},
   "source": [
    "<h2>Write a Python Program to Find the Factorial of a Number?"
   ]
  },
  {
   "cell_type": "code",
   "execution_count": null,
   "id": "d36309a7",
   "metadata": {},
   "outputs": [],
   "source": [
    "try:\n",
    "    a = int(input(\"enter valid number to find factorial\"))\n",
    "    fact = 1\n",
    "    while a>1:\n",
    "        fact *= a\n",
    "        a-=1\n",
    "    print(f\"factorial is {fact} \")\n",
    "except Exception as e :\n",
    "    print(\"enter valid number\")\n",
    "\n"
   ]
  },
  {
   "cell_type": "code",
   "execution_count": null,
   "id": "d1a9a44f",
   "metadata": {},
   "outputs": [],
   "source": [
    "def factorial(a):\n",
    "    if a==1 or a==0:\n",
    "        return 1\n",
    "    else:\n",
    "        return (a * factorial(a-1))\n",
    "\n",
    "a = int(input(\"enter valid number to find factorial\"))\n",
    "\n",
    "\n",
    "print(f\"factorial of {a} is {factorial(a)}\")"
   ]
  },
  {
   "cell_type": "markdown",
   "id": "ead78caf",
   "metadata": {},
   "source": [
    "<h2>Write a Python Program to Display the multiplication Table?"
   ]
  },
  {
   "cell_type": "code",
   "execution_count": null,
   "id": "135f5c3f",
   "metadata": {},
   "outputs": [],
   "source": [
    "def table(a):\n",
    "    for i in range(1,11):\n",
    "        print(f\"{a} X {i} = {int(a*i)}\")\n",
    "a = int(input(\"Enter number for multiplication table : \"))\n",
    "table(a)\n"
   ]
  },
  {
   "cell_type": "markdown",
   "id": "773976c8",
   "metadata": {},
   "source": [
    "<h2>Write a Python Program to Print the Fibonacci sequence?"
   ]
  },
  {
   "cell_type": "code",
   "execution_count": null,
   "id": "fa52343f",
   "metadata": {
    "scrolled": false
   },
   "outputs": [],
   "source": [
    "def fib(a):\n",
    "    x = 0\n",
    "    y = 1\n",
    "    if a <=0 :\n",
    "        print(f\"Enter positive number\")\n",
    "    elif a==1:\n",
    "        print(f\" Fibonacci sequence of {a} is 1\")\n",
    "    else:\n",
    "        for i in range(0,a):\n",
    "            print(x)\n",
    "            z = x + y \n",
    "            x = y\n",
    "            y = z\n",
    "    \n",
    "fib(13)"
   ]
  },
  {
   "cell_type": "markdown",
   "id": "7b603e3f",
   "metadata": {},
   "source": [
    "<h2>4. Write a Python Program to Check Armstrong Number?"
   ]
  },
  {
   "cell_type": "code",
   "execution_count": null,
   "id": "309b2914",
   "metadata": {},
   "outputs": [],
   "source": [
    "def arm(a):\n",
    "    a = str(a)\n",
    "    l = len(a)\n",
    "    b = 0\n",
    "    for i in a:\n",
    "        b = (int(i)**l) + b\n",
    "    if b == int(a) : \n",
    "        print(f\"{a} is armstrong number\")\n",
    "        return a\n",
    "    else : \n",
    "        print(f\"{a} is not armstrong number\")\n",
    "\n",
    "arm(1634)"
   ]
  },
  {
   "cell_type": "markdown",
   "id": "a7d2eabb",
   "metadata": {},
   "source": [
    "<h2>5. Write a Python Program to Find Armstrong Number in an Interval?"
   ]
  },
  {
   "cell_type": "code",
   "execution_count": 12,
   "id": "0866d109",
   "metadata": {},
   "outputs": [
    {
     "name": "stdout",
     "output_type": "stream",
     "text": [
      "1\n",
      "2\n",
      "3\n",
      "4\n",
      "5\n",
      "6\n",
      "7\n",
      "8\n",
      "9\n",
      "153\n",
      "370\n",
      "371\n",
      "407\n",
      "1634\n",
      "8208\n",
      "9474\n",
      "54748\n",
      "92727\n",
      "93084\n"
     ]
    }
   ],
   "source": [
    "lower = 1\n",
    "upper = 100000\n",
    "\n",
    "for i in range(lower,upper+1):\n",
    "    l = len(str(i))\n",
    "    b = 0\n",
    "    for j in str(i):\n",
    "        b = int(j)**l + b\n",
    "    if b == int(i):\n",
    "        print(i)\n",
    "    \n",
    "    "
   ]
  },
  {
   "cell_type": "markdown",
   "id": "ea623743",
   "metadata": {},
   "source": [
    "<h2>6. Write a Python Program to Find the Sum of Natural Numbers?"
   ]
  },
  {
   "cell_type": "code",
   "execution_count": 14,
   "id": "b06ce381",
   "metadata": {},
   "outputs": [
    {
     "name": "stdout",
     "output_type": "stream",
     "text": [
      "5050\n"
     ]
    }
   ],
   "source": [
    "upper = 100\n",
    "sum = 0\n",
    "for i in range(0,upper+1):\n",
    "    sum += i\n",
    "print(sum)"
   ]
  },
  {
   "cell_type": "code",
   "execution_count": null,
   "id": "68b42366",
   "metadata": {},
   "outputs": [],
   "source": []
  }
 ],
 "metadata": {
  "kernelspec": {
   "display_name": "Python 3 (ipykernel)",
   "language": "python",
   "name": "python3"
  },
  "language_info": {
   "codemirror_mode": {
    "name": "ipython",
    "version": 3
   },
   "file_extension": ".py",
   "mimetype": "text/x-python",
   "name": "python",
   "nbconvert_exporter": "python",
   "pygments_lexer": "ipython3",
   "version": "3.9.12"
  }
 },
 "nbformat": 4,
 "nbformat_minor": 5
}
