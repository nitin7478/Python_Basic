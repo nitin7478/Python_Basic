{
 "cells": [
  {
   "attachments": {},
   "cell_type": "markdown",
   "metadata": {},
   "source": [
    "```python\n",
    "1. Write a Python Program to Find LCM?\n",
    "```"
   ]
  },
  {
   "cell_type": "code",
   "execution_count": 59,
   "metadata": {},
   "outputs": [],
   "source": [
    "class lcm:\n",
    "    def __init__(self, num1 , num2):\n",
    "        self.num1 = num1\n",
    "        self.num2 = num2\n",
    "    \n",
    "    def calculcate_lcm(self):\n",
    "            i = 2\n",
    "            a = list()\n",
    "            while True:\n",
    "                if self.num1<self.num2:\n",
    "                    a.append(self.num2*i)\n",
    "                    if self.num1*i in a:\n",
    "                        print(f\" LCM of {self.num1} & {self.num2} is : {self.num1*i}\")                    \n",
    "                        break\n",
    "                else:\n",
    "                    a.append(self.num1*i)\n",
    "                    if self.num2*i in a:\n",
    "                        print(f\" LCM of {self.num1} & {self.num2} is {self.num2*i}\")\n",
    "                        break\n",
    "                i=i+1\n",
    "                    "
   ]
  },
  {
   "cell_type": "code",
   "execution_count": 66,
   "metadata": {},
   "outputs": [],
   "source": [
    "num1 = 0\n",
    "num2 = 0\n",
    "while num1 ==0:\n",
    "    try:\n",
    "        num1 = float(input(\"Enter first number to find LCM : \")) \n",
    "    except Exception as e:\n",
    "        print(\"Enter valid number to find LCM\")\n",
    "while num2 ==0:\n",
    "    try:\n",
    "        num2 = float(input(\"Enter second number to find LCM : \")) \n",
    "    except Exception as e:\n",
    "        print(\"Enter valid number to find LCM\") "
   ]
  },
  {
   "cell_type": "code",
   "execution_count": 67,
   "metadata": {},
   "outputs": [
    {
     "name": "stdout",
     "output_type": "stream",
     "text": [
      " LCM of 5.0 & 6.0 is : 30.0\n"
     ]
    }
   ],
   "source": [
    "x = lcm(num1, num2)\n",
    "x.calculcate_lcm()"
   ]
  },
  {
   "attachments": {},
   "cell_type": "markdown",
   "metadata": {},
   "source": [
    "2. Write a Python Program to Find HCF?"
   ]
  },
  {
   "cell_type": "code",
   "execution_count": 91,
   "metadata": {},
   "outputs": [],
   "source": [
    "class hcf:\n",
    "    def __init__(self, num1 , num2):\n",
    "        self.num1 = num1\n",
    "        self.num2 = num2\n",
    "        \n",
    "    def calculate_hcf(self):\n",
    "        if self.num1> self.num2:\n",
    "            smaller = self.num2\n",
    "        else:\n",
    "            smaller = self.num1\n",
    "        for i in range(1, smaller+1):\n",
    "            if((self.num1%i==0) and (self.num2%i==0)):\n",
    "                hcf = i\n",
    "        return hcf\n",
    "                    \n",
    "                    \n",
    "            "
   ]
  },
  {
   "cell_type": "code",
   "execution_count": 94,
   "metadata": {},
   "outputs": [
    {
     "data": {
      "text/plain": [
       "10"
      ]
     },
     "execution_count": 94,
     "metadata": {},
     "output_type": "execute_result"
    }
   ],
   "source": [
    "x = hcf(50, 30)\n",
    "y = x.calculate_hcf()\n",
    "y"
   ]
  },
  {
   "attachments": {},
   "cell_type": "markdown",
   "metadata": {},
   "source": [
    "3. Write a Python Program to Convert Decimal to Binary, Octal and Hexadecimal?"
   ]
  },
  {
   "cell_type": "code",
   "execution_count": 116,
   "metadata": {},
   "outputs": [],
   "source": [
    "class convertor:\n",
    "    def __init__(self, num1):\n",
    "        self.num1 = num1\n",
    "    def decimal_to_binary(self):\n",
    "        result = bin(self.num1).replace(\"0b\", \"\")\n",
    "        print(f\"Decimal to binary value of {self.num1} is {result}\")\n",
    "    def decimal_to_octal(self):\n",
    "        result = oct(self.num1).replace(\"0o\",\"\")\n",
    "        print(f\"Decimal to octal value of {self.num1} is {result}\")\n",
    "    def decimal_to_hexadecimal(self):\n",
    "        result = hex(self.num1).replace(\"0x\",\"\")\n",
    "        print(f\"Decimal to hexadecimal value of {self.num1} is {result}\")   "
   ]
  },
  {
   "cell_type": "code",
   "execution_count": 117,
   "metadata": {},
   "outputs": [
    {
     "name": "stdout",
     "output_type": "stream",
     "text": [
      "Decimal to binary value of 79 is 1001111\n",
      "Decimal to octal value of 79 is 117\n",
      "Decimal to hexadecimal value of 79 is 4f\n"
     ]
    }
   ],
   "source": [
    "obj = convertor(79)\n",
    "obj.decimal_to_binary()\n",
    "obj.decimal_to_octal()\n",
    "obj.decimal_to_hexadecimal()\n"
   ]
  },
  {
   "attachments": {},
   "cell_type": "markdown",
   "metadata": {},
   "source": [
    "4. Write a Python Program To Find ASCII value of a character?"
   ]
  },
  {
   "cell_type": "code",
   "execution_count": 120,
   "metadata": {},
   "outputs": [
    {
     "name": "stdout",
     "output_type": "stream",
     "text": [
      "Ascii value of 6 is 54\n"
     ]
    }
   ],
   "source": [
    "ch = input(\"Enter character to check its ascii value\")\n",
    "print(f\"Ascii value of {ch[0]} is {ord(ch[0])}\")"
   ]
  },
  {
   "attachments": {},
   "cell_type": "markdown",
   "metadata": {},
   "source": [
    "5. Write a Python Program to Make a Simple Calculator with 4 basic mathematical operations?\n"
   ]
  },
  {
   "cell_type": "code",
   "execution_count": 144,
   "metadata": {},
   "outputs": [],
   "source": [
    "class calculator:\n",
    "    def __init__(self):\n",
    "        pass\n",
    "    def addition(self , *args):\n",
    "        res = 0\n",
    "        for i in args:\n",
    "            res = i+res\n",
    "        print(res)\n",
    "    def substraction(self , *args):\n",
    "        res = 0\n",
    "        for i in args:\n",
    "            res = i-res\n",
    "        print(res)\n",
    "    def division(self, *args):\n",
    "        res  = 1;\n",
    "        for i in args:\n",
    "            res = i/res\n",
    "        print(res)\n",
    "    def multiplication(self, *args):\n",
    "        res = 1\n",
    "        for i in args:\n",
    "            res = i*res\n",
    "        print(res)"
   ]
  },
  {
   "cell_type": "code",
   "execution_count": 145,
   "metadata": {},
   "outputs": [
    {
     "name": "stdout",
     "output_type": "stream",
     "text": [
      "11\n",
      "7\n",
      "0.25\n",
      "70\n"
     ]
    }
   ],
   "source": [
    "obj1 = calculator()\n",
    "obj1.addition(1,2,8)\n",
    "obj1.substraction(1,2,8)\n",
    "obj1.division(8,2)\n",
    "obj1.multiplication(2,5,7)"
   ]
  },
  {
   "cell_type": "code",
   "execution_count": null,
   "metadata": {},
   "outputs": [],
   "source": []
  }
 ],
 "metadata": {
  "kernelspec": {
   "display_name": ".venv",
   "language": "python",
   "name": "python3"
  },
  "language_info": {
   "codemirror_mode": {
    "name": "ipython",
    "version": 3
   },
   "file_extension": ".py",
   "mimetype": "text/x-python",
   "name": "python",
   "nbconvert_exporter": "python",
   "pygments_lexer": "ipython3",
   "version": "3.11.1"
  },
  "orig_nbformat": 4,
  "vscode": {
   "interpreter": {
    "hash": "2c7615e4a084b84ced4bb58fff9182e6d15441ce8deedd2df62daa6d14eca623"
   }
  }
 },
 "nbformat": 4,
 "nbformat_minor": 2
}
