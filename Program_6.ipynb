{
 "cells": [
  {
   "cell_type": "code",
   "execution_count": null,
   "id": "c2fc94da",
   "metadata": {},
   "outputs": [],
   "source": []
  },
  {
   "cell_type": "markdown",
   "id": "b9f99209",
   "metadata": {},
   "source": [
    "# 1. Write a Python Program to Display Fibonacci Sequence Using Recursion?"
   ]
  },
  {
   "cell_type": "code",
   "execution_count": 1,
   "id": "b3946cdc",
   "metadata": {},
   "outputs": [],
   "source": [
    "import logging\n",
    "logging.basicConfig(filename = \"test.log\", level= logging.INFO , \n",
    "                    format = '%(asctime)s %(levelname)s %(message)s')"
   ]
  },
  {
   "cell_type": "code",
   "execution_count": 19,
   "id": "7fb0eee1",
   "metadata": {},
   "outputs": [
    {
     "name": "stdout",
     "output_type": "stream",
     "text": [
      "0\n",
      "1\n",
      "1\n",
      "2\n",
      "3\n",
      "5\n",
      "8\n",
      "13\n",
      "21\n",
      "34\n",
      "55\n",
      "89\n",
      "144\n"
     ]
    }
   ],
   "source": [
    "\n",
    "def q1(lvl):\n",
    "    if lvl <=1:\n",
    "        return lvl \n",
    "    else: \n",
    "        return (q1(lvl-1)+q1(lvl-2))\n",
    "lvl = 13\n",
    "for i in range(lvl):\n",
    "    print(q1(i))\n",
    "\n",
    "        \n",
    "        "
   ]
  },
  {
   "cell_type": "markdown",
   "id": "3a406e8f",
   "metadata": {},
   "source": [
    "<h2>2. Write a Python Program to Find Factorial of Number Using Recursion?"
   ]
  },
  {
   "cell_type": "code",
   "execution_count": null,
   "id": "a6302054",
   "metadata": {},
   "outputs": [],
   "source": [
    "def factorial(a):\n",
    "    if a==1 or a==0:\n",
    "        return 1\n",
    "    else:\n",
    "        return (a * factorial(a-1))\n",
    "\n",
    "a = int(input(\"enter valid number to find factorial\"))\n",
    "\n",
    "\n",
    "print(f\"factorial of {a} is {factorial(a)}\")"
   ]
  },
  {
   "cell_type": "markdown",
   "id": "f1a59459",
   "metadata": {},
   "source": [
    "<h2>3. Write a Python Program to calculate your Body Mass Index?\n",
    "   <h4> BMI = weight / (height/100)**2"
   ]
  },
  {
   "cell_type": "code",
   "execution_count": 26,
   "id": "28128533",
   "metadata": {},
   "outputs": [
    {
     "name": "stdout",
     "output_type": "stream",
     "text": [
      "Enter your height in cms : 157\n",
      "Enter your wigh in kg : 61\n",
      "your BMI is 24.75\n",
      "idea weight for your height should be 61.38\n"
     ]
    }
   ],
   "source": [
    "height = int(input(\"Enter your height in cms : \"))\n",
    "weight = int(input(\"Enter your wigh in kg : \"))\n",
    "BMI = round((weight / (height/100)**2),2)\n",
    "print(f\"your BMI is {BMI}\")\n",
    "idealweight = round((((height/100)**2) * 24.9),2)\n",
    "\n",
    "print(f\"idea weight for your height should be {idealweight}\")"
   ]
  },
  {
   "cell_type": "markdown",
   "id": "76398ed7",
   "metadata": {},
   "source": [
    "# 4. Write a Python Program to calculate the natural logarithm of any number?\n"
   ]
  },
  {
   "cell_type": "code",
   "execution_count": 31,
   "id": "c1a2484a",
   "metadata": {},
   "outputs": [
    {
     "name": "stdout",
     "output_type": "stream",
     "text": [
      "log of 100.54 is 4.6106\n"
     ]
    }
   ],
   "source": [
    "a = 100.54\n",
    "import math\n",
    "print(f\"log of {a} is {round(math.log(a),4)}\")"
   ]
  },
  {
   "cell_type": "markdown",
   "id": "3c4f7817",
   "metadata": {},
   "source": [
    "# 5. Write a Python Program for cube sum of first n natural numbers?\n"
   ]
  },
  {
   "cell_type": "code",
   "execution_count": 37,
   "id": "59f440d7",
   "metadata": {},
   "outputs": [
    {
     "name": "stdout",
     "output_type": "stream",
     "text": [
      "Enter number5\n",
      "225\n"
     ]
    }
   ],
   "source": [
    "a = int(input(\"Enter number\"))\n",
    "sum= 0\n",
    "for i in range(a+1):\n",
    "    sum += (i**3)\n",
    "print(sum)"
   ]
  },
  {
   "cell_type": "code",
   "execution_count": null,
   "id": "d8906332",
   "metadata": {},
   "outputs": [],
   "source": []
  }
 ],
 "metadata": {
  "kernelspec": {
   "display_name": ".venv",
   "language": "python",
   "name": "python3"
  },
  "language_info": {
   "codemirror_mode": {
    "name": "ipython",
    "version": 3
   },
   "file_extension": ".py",
   "mimetype": "text/x-python",
   "name": "python",
   "nbconvert_exporter": "python",
   "pygments_lexer": "ipython3",
   "version": "3.11.1"
  },
  "vscode": {
   "interpreter": {
    "hash": "2c7615e4a084b84ced4bb58fff9182e6d15441ce8deedd2df62daa6d14eca623"
   }
  }
 },
 "nbformat": 4,
 "nbformat_minor": 5
}
