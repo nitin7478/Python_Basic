{
 "cells": [
  {
   "cell_type": "markdown",
   "id": "9cc0f1f1",
   "metadata": {},
   "source": [
    "1. Write a Python program to print &quot;Hello Python&quot;?\n"
   ]
  },
  {
   "cell_type": "code",
   "execution_count": 1,
   "id": "2419906e",
   "metadata": {},
   "outputs": [
    {
     "name": "stdout",
     "output_type": "stream",
     "text": [
      "Hello Python\n"
     ]
    }
   ],
   "source": [
    "print(\"Hello Python\")"
   ]
  },
  {
   "cell_type": "markdown",
   "id": "69fd8dbb",
   "metadata": {},
   "source": [
    "2. Write a Python program to do arithmetical operations addition and division.?"
   ]
  },
  {
   "cell_type": "code",
   "execution_count": 2,
   "id": "cab574e0",
   "metadata": {},
   "outputs": [
    {
     "name": "stdout",
     "output_type": "stream",
     "text": [
      "5.0\n",
      "12\n"
     ]
    }
   ],
   "source": [
    "print(10 /2)\n",
    "print(10+2)"
   ]
  },
  {
   "cell_type": "markdown",
   "id": "18fb4090",
   "metadata": {},
   "source": [
    "3. Write a Python program to find the area of a triangle?\n"
   ]
  },
  {
   "cell_type": "code",
   "execution_count": 8,
   "id": "5bce1d56",
   "metadata": {},
   "outputs": [
    {
     "name": "stdout",
     "output_type": "stream",
     "text": [
      "Enter first side5\n",
      "Enter second side6\n",
      "Enter third side7\n",
      "Area of triangle is with sides '5.0,6.0,7.0': 14.7\n"
     ]
    }
   ],
   "source": [
    "a = float(input(\"Enter first side :\"))\n",
    "b = float(input(\"Enter second side :\"))\n",
    "c = float(input(\"Enter third side : \"))\n",
    "\n",
    "# calculate semi perimeter\n",
    "s = (a+b+c) /2\n",
    "area_of_triangle = (s*(s-a)*(s-b)*(s-c)) ** 0.5\n",
    "print(f\"Area of triangle is with sides '{a},{b},{c}': {round(area_of_triangle,2)}\")"
   ]
  },
  {
   "cell_type": "markdown",
   "id": "cbee222d",
   "metadata": {},
   "source": [
    "4. Write a Python program to swap two variables?"
   ]
  },
  {
   "cell_type": "code",
   "execution_count": 9,
   "id": "bec144e0",
   "metadata": {},
   "outputs": [
    {
     "name": "stdout",
     "output_type": "stream",
     "text": [
      "value of a is : 6\n",
      "value of b is : 5\n"
     ]
    }
   ],
   "source": [
    "a = 5\n",
    "b = 6\n",
    "\n",
    "a , b = b, a\n",
    "print(f\"value of a is : {a}\")\n",
    "print(f\"value of b is : {b}\")"
   ]
  },
  {
   "cell_type": "markdown",
   "id": "a6ab326f",
   "metadata": {},
   "source": [
    "5. Write a Python program to generate a random number?\n"
   ]
  },
  {
   "cell_type": "code",
   "execution_count": 12,
   "id": "e8a4a39e",
   "metadata": {},
   "outputs": [
    {
     "name": "stdout",
     "output_type": "stream",
     "text": [
      "0.8102396231687916\n"
     ]
    }
   ],
   "source": [
    "import random \n",
    "a = random.random()\n",
    "print(a)"
   ]
  },
  {
   "cell_type": "code",
   "execution_count": null,
   "id": "59fd28ff",
   "metadata": {},
   "outputs": [],
   "source": []
  }
 ],
 "metadata": {
  "kernelspec": {
   "display_name": "Python 3 (ipykernel)",
   "language": "python",
   "name": "python3"
  },
  "language_info": {
   "codemirror_mode": {
    "name": "ipython",
    "version": 3
   },
   "file_extension": ".py",
   "mimetype": "text/x-python",
   "name": "python",
   "nbconvert_exporter": "python",
   "pygments_lexer": "ipython3",
   "version": "3.9.12"
  }
 },
 "nbformat": 4,
 "nbformat_minor": 5
}
